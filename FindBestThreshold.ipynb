{
 "cells": [
  {
   "cell_type": "code",
   "execution_count": 1,
   "id": "laden-crest",
   "metadata": {},
   "outputs": [],
   "source": [
    "import numpy as np\n",
    "import pandas as pd\n",
    "from os.path import join"
   ]
  },
  {
   "cell_type": "code",
   "execution_count": 2,
   "id": "electric-class",
   "metadata": {},
   "outputs": [],
   "source": [
    "model = \"deepant\"\n",
    "\n",
    "dataset = pd.read_csv(join(\"models\",model, \"results_short.csv\" ))\n",
    "dataset = dataset[dataset[\"subfile\"].isnull() ]\n",
    "row = [ 'conf_no', 'threshold', 'accuracy', 'precision', 'recall', 'f1_score', 'mcc', 'prevalence']"
   ]
  },
  {
   "cell_type": "code",
   "execution_count": 3,
   "id": "brief-colony",
   "metadata": {},
   "outputs": [],
   "source": [
    "def findBestThreshold(dataset, downsample):\n",
    "    test = [0]*8\n",
    "    n_confs = dataset['conf_no'].max()+1\n",
    "    for conf_no in range(0,n_confs):\n",
    "        df = dataset[(dataset[\"downsample\"] == downsample) & (dataset[\"conf_no\"] == conf_no)]\n",
    "        df = df[df['mcc'] == df['mcc'].max()] \n",
    "        df = df[df['f1_score'] == df['f1_score'].max()]\n",
    "        df = df[df['precision'] == df['precision'].max()]\n",
    "        print(' & '.join(str('{:1.5f}'.format(x)) for x in  df[row].iloc[0]) + ' \\\\\\\\')\n",
    "        test = np.add(test,df[row].iloc[0].values)\n",
    "    print(' & '.join('{:1.2f}'.format(x) for x in  (test/n_confs)) + ' \\\\\\\\')"
   ]
  },
  {
   "cell_type": "code",
   "execution_count": 4,
   "id": "dietary-posting",
   "metadata": {},
   "outputs": [
    {
     "name": "stdout",
     "output_type": "stream",
     "text": [
      "0.00000 & 90.00000 & 0.89579 & 0.26110 & 0.46388 & 0.33413 & 0.29614 & 0.05637 \\\\\n",
      "1.00000 & 93.00000 & 0.91288 & 0.28058 & 0.34886 & 0.31102 & 0.26689 & 0.05637 \\\\\n",
      "2.00000 & 91.00000 & 0.90297 & 0.27424 & 0.43821 & 0.33736 & 0.29722 & 0.05637 \\\\\n",
      "3.00000 & 89.00000 & 0.89078 & 0.26074 & 0.50760 & 0.34452 & 0.31093 & 0.05655 \\\\\n",
      "4.00000 & 92.00000 & 0.91142 & 0.30000 & 0.42490 & 0.35169 & 0.31101 & 0.05655 \\\\\n",
      "5.00000 & 89.00000 & 0.88142 & 0.21826 & 0.42490 & 0.28839 & 0.24625 & 0.05655 \\\\\n",
      "6.00000 & 88.00000 & 0.88207 & 0.23921 & 0.51953 & 0.32759 & 0.29728 & 0.05529 \\\\\n",
      "7.00000 & 91.00000 & 0.90400 & 0.27398 & 0.44629 & 0.33952 & 0.30104 & 0.05529 \\\\\n",
      "8.00000 & 91.00000 & 0.90140 & 0.25959 & 0.42285 & 0.32169 & 0.28123 & 0.05529 \\\\\n",
      "9.00000 & 92.00000 & 0.90932 & 0.26771 & 0.40061 & 0.32095 & 0.28083 & 0.05349 \\\\\n",
      "10.00000 & 94.00000 & 0.92454 & 0.31698 & 0.35576 & 0.33525 & 0.29595 & 0.05349 \\\\\n",
      "11.00000 & 91.00000 & 0.90507 & 0.26998 & 0.45464 & 0.33878 & 0.30272 & 0.05349 \\\\\n",
      "5.50 & 90.92 & 0.90 & 0.27 & 0.43 & 0.33 & 0.29 & 0.06 \\\\\n"
     ]
    }
   ],
   "source": [
    "# Lenient method\n",
    "findBestThreshold(dataset, False)"
   ]
  },
  {
   "cell_type": "code",
   "execution_count": 5,
   "id": "operational-pierre",
   "metadata": {},
   "outputs": [
    {
     "name": "stdout",
     "output_type": "stream",
     "text": [
      "0.00000 & 95.00000 & 0.88128 & 0.41216 & 0.71765 & 0.52361 & 0.48460 & 0.09091 \\\\\n",
      "1.00000 & 97.00000 & 0.89947 & 0.44944 & 0.47059 & 0.45977 & 0.40451 & 0.09091 \\\\\n",
      "2.00000 & 96.00000 & 0.89412 & 0.44400 & 0.65294 & 0.52857 & 0.48249 & 0.09091 \\\\\n",
      "3.00000 & 95.00000 & 0.88251 & 0.41404 & 0.69412 & 0.51868 & 0.47640 & 0.09120 \\\\\n",
      "4.00000 & 96.00000 & 0.89807 & 0.45833 & 0.64706 & 0.53659 & 0.49023 & 0.09120 \\\\\n",
      "5.00000 & 92.00000 & 0.80955 & 0.29213 & 0.76471 & 0.42276 & 0.39085 & 0.09120 \\\\\n",
      "6.00000 & 96.00000 & 0.89596 & 0.44304 & 0.63253 & 0.52109 & 0.47404 & 0.08949 \\\\\n",
      "7.00000 & 95.00000 & 0.88248 & 0.40580 & 0.67470 & 0.50679 & 0.46329 & 0.08949 \\\\\n",
      "8.00000 & 94.00000 & 0.86631 & 0.37267 & 0.72289 & 0.49180 & 0.45467 & 0.08949 \\\\\n",
      "9.00000 & 95.00000 & 0.88187 & 0.39576 & 0.70886 & 0.50794 & 0.47145 & 0.08601 \\\\\n",
      "10.00000 & 96.00000 & 0.89548 & 0.42735 & 0.63291 & 0.51020 & 0.46514 & 0.08601 \\\\\n",
      "11.00000 & 96.00000 & 0.89875 & 0.43966 & 0.64557 & 0.52308 & 0.47955 & 0.08601 \\\\\n",
      "5.50 & 95.25 & 0.88 & 0.41 & 0.66 & 0.50 & 0.46 & 0.09 \\\\\n"
     ]
    }
   ],
   "source": [
    "# Downsampling method\n",
    "findBestThreshold(dataset, True)"
   ]
  }
 ],
 "metadata": {
  "kernelspec": {
   "display_name": "Python 3",
   "language": "python",
   "name": "python3"
  },
  "language_info": {
   "codemirror_mode": {
    "name": "ipython",
    "version": 3
   },
   "file_extension": ".py",
   "mimetype": "text/x-python",
   "name": "python",
   "nbconvert_exporter": "python",
   "pygments_lexer": "ipython3",
   "version": "3.8.6"
  }
 },
 "nbformat": 4,
 "nbformat_minor": 5
}
