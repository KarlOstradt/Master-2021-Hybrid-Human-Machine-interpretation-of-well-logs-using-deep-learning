{
 "cells": [
  {
   "cell_type": "code",
   "execution_count": 1,
   "id": "accompanied-essex",
   "metadata": {},
   "outputs": [],
   "source": [
    "import pandas as pd\n",
    "import numpy as np\n",
    "from os import listdir\n",
    "import os\n",
    "from os.path import join, isfile, isdir\n",
    "import matplotlib.pyplot as plt"
   ]
  },
  {
   "cell_type": "code",
   "execution_count": 2,
   "id": "polished-newfoundland",
   "metadata": {},
   "outputs": [],
   "source": [
    "# org_data:         original data\n",
    "# training_data:    training data (unscaled)\n",
    "# training_scaled:  training data (scaled)\n",
    "# volve:            test data (unscaled)\n",
    "# volve_scaled:     test data (scaled)"
   ]
  },
  {
   "cell_type": "markdown",
   "id": "parliamentary-evanescence",
   "metadata": {},
   "source": [
    "## original data"
   ]
  },
  {
   "cell_type": "code",
   "execution_count": 3,
   "id": "disturbed-bridge",
   "metadata": {},
   "outputs": [],
   "source": [
    "source = \"path/to/original/data\"\n",
    "files = [f for f in os.listdir(source) if isfile(join(source, f))]\n",
    "org_data = pd.read_csv(source + files[0])\n",
    "for f in files[1:]:  \n",
    "    file = pd.read_csv(source + f)\n",
    "    org_data = org_data.append(file, ignore_index=True)"
   ]
  },
  {
   "cell_type": "code",
   "execution_count": 4,
   "id": "graduate-nickname",
   "metadata": {},
   "outputs": [
    {
     "data": {
      "text/plain": [
       "0.650918136885863"
      ]
     },
     "execution_count": 4,
     "metadata": {},
     "output_type": "execute_result"
    }
   ],
   "source": [
    "# Percentage of rows with missing values\n",
    "(org_data.shape[0] - org_data.dropna().shape[0])/org_data.shape[0]"
   ]
  },
  {
   "cell_type": "code",
   "execution_count": 5,
   "id": "pregnant-palmer",
   "metadata": {
    "scrolled": true
   },
   "outputs": [
    {
     "data": {
      "image/png": "[encoded data removed]",
      "text/plain": [
       "<Figure size 576x288 with 1 Axes>"
      ]
     },
     "metadata": {
      "needs_background": "light"
     },
     "output_type": "display_data"
    }
   ],
   "source": [
    "# Proportion of missing data per column\n",
    "missingCol = org_data.isnull().sum()/len(org_data)\n",
    "fig = plt.figure(figsize=(8,4))\n",
    "plt.bar(list(org_data)[:-1],missingCol[:-1], color='darkgreen', alpha=0.8)\n",
    "plt.xticks(rotation=90)\n",
    "plt.ylabel(\"Proportion of missing values\")\n",
    "plt.savefig(\"missing_values_col\" + '.pdf', bbox_inches='tight')\n",
    "plt.show()"
   ]
  },
  {
   "cell_type": "code",
   "execution_count": 6,
   "id": "proper-calendar",
   "metadata": {},
   "outputs": [
    {
     "data": {
      "image/png": "[encoded data removed]",
      "text/plain": [
       "<Figure size 576x288 with 1 Axes>"
      ]
     },
     "metadata": {
      "needs_background": "light"
     },
     "output_type": "display_data"
    }
   ],
   "source": [
    "# Proportion of missing data per row\n",
    "missingRow = org_data.isnull().sum(axis=1).value_counts().sort_index(ascending=True)\n",
    "fig = plt.figure(figsize=(8,4))\n",
    "plt.bar(missingRow.keys().tolist(),missingRow,color='saddlebrown', alpha=1.0)\n",
    "plt.xlabel(\"Number of features with missing values\")\n",
    "plt.ylabel(\"Number of observations\")\n",
    "plt.savefig(\"missing_values_row\" + '.pdf', bbox_inches='tight')\n",
    "plt.show()"
   ]
  },
  {
   "cell_type": "markdown",
   "id": "monthly-talent",
   "metadata": {},
   "source": [
    "## training data (unscaled)"
   ]
  },
  {
   "cell_type": "code",
   "execution_count": 7,
   "id": "foster-capacity",
   "metadata": {},
   "outputs": [],
   "source": [
    "source = \"path/to/training/data\"\n",
    "files = [f for f in os.listdir(source) if isfile(join(source, f))]\n",
    "training_data = pd.read_csv(source + files[0])\n",
    "for f in files[1:]:  \n",
    "    file = pd.read_csv(source + f)\n",
    "    training_data = training_data.append(file, ignore_index=True)"
   ]
  },
  {
   "cell_type": "code",
   "execution_count": 8,
   "id": "blank-dominant",
   "metadata": {},
   "outputs": [
    {
     "data": {
      "text/plain": [
       "DEPTH           220.6752\n",
       "AC              43.23489\n",
       "ACS             76.70515\n",
       "BS                   6.0\n",
       "CALI            2.003554\n",
       "DEN             1.153019\n",
       "DENC           -1.576752\n",
       "GR                   0.0\n",
       "NEU              -0.0191\n",
       "PEF            -59.04468\n",
       "RDEP            0.073844\n",
       "RMED            0.066667\n",
       "dtype: object"
      ]
     },
     "execution_count": 8,
     "metadata": {},
     "output_type": "execute_result"
    }
   ],
   "source": [
    "training_data.min()"
   ]
  },
  {
   "cell_type": "code",
   "execution_count": 9,
   "id": "informal-registrar",
   "metadata": {},
   "outputs": [
    {
     "data": {
      "text/plain": [
       "DEPTH        7093.0008\n",
       "AC             286.041\n",
       "ACS           798.4306\n",
       "BS                17.5\n",
       "CALI          27.92805\n",
       "DEN           3.654793\n",
       "DENC          6.733387\n",
       "GR            953.7303\n",
       "NEU           7.686814\n",
       "PEF           137.4431\n",
       "RDEP          100000.0\n",
       "RMED          100000.0\n",
       "dtype: object"
      ]
     },
     "execution_count": 9,
     "metadata": {},
     "output_type": "execute_result"
    }
   ],
   "source": [
    "training_data.max()"
   ]
  },
  {
   "cell_type": "code",
   "execution_count": 10,
   "id": "boxed-fossil",
   "metadata": {},
   "outputs": [
    {
     "data": {
      "text/plain": [
       "DEPTH    2386.901198\n",
       "AC        104.522184\n",
       "ACS       232.824196\n",
       "BS         10.522482\n",
       "CALI       10.692392\n",
       "DEN         2.371792\n",
       "DENC        0.022808\n",
       "GR         74.993511\n",
       "NEU         0.330380\n",
       "PEF         4.911073\n",
       "RDEP       17.338168\n",
       "RMED       13.755141\n",
       "dtype: float64"
      ]
     },
     "execution_count": 10,
     "metadata": {},
     "output_type": "execute_result"
    }
   ],
   "source": [
    "training_data.mean()"
   ]
  },
  {
   "cell_type": "code",
   "execution_count": 11,
   "id": "endangered-sport",
   "metadata": {},
   "outputs": [
    {
     "data": {
      "text/plain": [
       "DEPTH    1086.115893\n",
       "AC         27.478215\n",
       "ACS       103.827090\n",
       "BS          2.447217\n",
       "CALI        2.652894\n",
       "DEN         0.210044\n",
       "DENC        0.048962\n",
       "GR         35.224564\n",
       "NEU         0.150530\n",
       "PEF         2.438237\n",
       "RDEP      450.866719\n",
       "RMED      246.677419\n",
       "dtype: float64"
      ]
     },
     "execution_count": 11,
     "metadata": {},
     "output_type": "execute_result"
    }
   ],
   "source": [
    "training_data.std()"
   ]
  },
  {
   "cell_type": "code",
   "execution_count": 12,
   "id": "rolled-transformation",
   "metadata": {},
   "outputs": [],
   "source": [
    "def plotBar(data, bins, filename):\n",
    "    hist, bin_edges = np.histogram(data,bins) # make the histogram\n",
    "\n",
    "    fig,ax = plt.subplots(figsize=(8,4))\n",
    "\n",
    "    # Plot the histogram heights against integers on the x axis\n",
    "    ax.bar(range(len(hist)),hist,width=0.9,align='edge',alpha=0.8,color='purple') \n",
    "\n",
    "    # Set the ticks to the middle of the bars\n",
    "    ax.set_xticks([0.45+i for i,j in enumerate(hist)])\n",
    "\n",
    "    # Set the xticklabels to a string that tells us what the bin edges were\n",
    "    ax.set_xticklabels(['{}-{}'.format(bins[i],bins[i+1]) for i,j in enumerate(hist)])\n",
    "\n",
    "    plt.ylabel('Number of observations')\n",
    "    plt.savefig(filename + '.pdf', bbox_inches='tight')\n",
    "\n",
    "    plt.show()"
   ]
  },
  {
   "cell_type": "code",
   "execution_count": 13,
   "id": "visible-expense",
   "metadata": {},
   "outputs": [
    {
     "data": {
      "image/png": "[encoded data removed]",
      "text/plain": [
       "<Figure size 576x288 with 1 Axes>"
      ]
     },
     "metadata": {
      "needs_background": "light"
     },
     "output_type": "display_data"
    }
   ],
   "source": [
    "bins = [0,1,10,100,1000,10000,100000] # your bins\n",
    "rmed = training_data.RMED # random data\n",
    "plotBar(rmed,bins,'rmed_hist_before')"
   ]
  },
  {
   "cell_type": "code",
   "execution_count": 14,
   "id": "varied-sociology",
   "metadata": {},
   "outputs": [
    {
     "data": {
      "image/png": "[encoded data removed]",
      "text/plain": [
       "<Figure size 576x288 with 1 Axes>"
      ]
     },
     "metadata": {
      "needs_background": "light"
     },
     "output_type": "display_data"
    }
   ],
   "source": [
    "bins = range(-1,6) # your bins\n",
    "rmed_log = np.log10(training_data.RMED) # random data\n",
    "plotBar(rmed_log,bins,'rmed_hist_after')"
   ]
  },
  {
   "cell_type": "markdown",
   "id": "harmful-gateway",
   "metadata": {},
   "source": [
    "## training data (scaled)"
   ]
  },
  {
   "cell_type": "code",
   "execution_count": 15,
   "id": "burning-terry",
   "metadata": {},
   "outputs": [],
   "source": [
    "import master.vae_processing as v\n",
    "import joblib\n",
    "scale = joblib.load('scaler_remove.pkl')\n",
    "training_scaled,_ = v.scale_and_shape(source, ['DEPTH'], 'remove', nLines=1)"
   ]
  },
  {
   "cell_type": "code",
   "execution_count": 16,
   "id": "downtown-sociology",
   "metadata": {},
   "outputs": [
    {
     "data": {
      "text/plain": [
       "AC         0.0\n",
       "ACS        0.0\n",
       "DEN        0.0\n",
       "DENC       0.0\n",
       "GR         0.0\n",
       "NEU        0.0\n",
       "PEF        0.0\n",
       "RDEP       0.0\n",
       "RMED       0.0\n",
       "CALI-BS    0.0\n",
       "dtype: float64"
      ]
     },
     "execution_count": 16,
     "metadata": {},
     "output_type": "execute_result"
    }
   ],
   "source": [
    "training_scaled.min()"
   ]
  },
  {
   "cell_type": "code",
   "execution_count": 17,
   "id": "mathematical-amateur",
   "metadata": {},
   "outputs": [
    {
     "data": {
      "text/plain": [
       "AC         1.000000\n",
       "ACS        0.997883\n",
       "DEN        1.000000\n",
       "DENC       1.000000\n",
       "GR         1.000000\n",
       "NEU        1.000000\n",
       "PEF        1.000000\n",
       "RDEP       1.000000\n",
       "RMED       1.000000\n",
       "CALI-BS    1.000000\n",
       "dtype: float64"
      ]
     },
     "execution_count": 17,
     "metadata": {},
     "output_type": "execute_result"
    }
   ],
   "source": [
    "training_scaled.max()"
   ]
  },
  {
   "cell_type": "code",
   "execution_count": 18,
   "id": "found-matthew",
   "metadata": {},
   "outputs": [
    {
     "data": {
      "text/plain": [
       "AC         0.252397\n",
       "ACS        0.216273\n",
       "DEN        0.487179\n",
       "DENC       0.192481\n",
       "GR         0.078639\n",
       "NEU        0.045353\n",
       "PEF        0.325499\n",
       "RDEP       0.239934\n",
       "RMED       0.245268\n",
       "CALI-BS    0.268813\n",
       "dtype: float64"
      ]
     },
     "execution_count": 18,
     "metadata": {},
     "output_type": "execute_result"
    }
   ],
   "source": [
    "training_scaled.mean()"
   ]
  },
  {
   "cell_type": "code",
   "execution_count": 19,
   "id": "parallel-marine",
   "metadata": {},
   "outputs": [
    {
     "data": {
      "text/plain": [
       "AC         0.113171\n",
       "ACS        0.143778\n",
       "DEN        0.083961\n",
       "DENC       0.005908\n",
       "GR         0.036935\n",
       "NEU        0.019533\n",
       "PEF        0.012437\n",
       "RDEP       0.083448\n",
       "RMED       0.082656\n",
       "CALI-BS    0.026176\n",
       "dtype: float64"
      ]
     },
     "execution_count": 19,
     "metadata": {},
     "output_type": "execute_result"
    }
   ],
   "source": [
    "training_scaled.std()"
   ]
  },
  {
   "cell_type": "markdown",
   "id": "laughing-theater",
   "metadata": {},
   "source": [
    "## test data (unscaled)"
   ]
  },
  {
   "cell_type": "code",
   "execution_count": 20,
   "id": "handed-tennis",
   "metadata": {},
   "outputs": [],
   "source": [
    "source_test = \"path/to/test/data/\"\n",
    "# Combine all data into a single dataframe\n",
    "files = [f for f in os.listdir(source_test) if isfile(join(source_test, f))]\n",
    "volve = pd.read_csv(source_test + files[0])\n",
    "for f in files[1:]:  \n",
    "    file = pd.read_csv(source_test + f)\n",
    "    volve = volve.append(file, ignore_index=True)"
   ]
  },
  {
   "cell_type": "code",
   "execution_count": 21,
   "id": "prescribed-making",
   "metadata": {},
   "outputs": [
    {
     "data": {
      "text/plain": [
       "DEPTH    2582.9000\n",
       "AC         48.9274\n",
       "ACS        74.8224\n",
       "BS          8.5000\n",
       "CALI        8.5000\n",
       "DEN         2.0896\n",
       "DENC       -0.0035\n",
       "GR          0.8379\n",
       "NEU        -0.0034\n",
       "PEF         4.8358\n",
       "RDEP        0.1174\n",
       "RMED        0.0711\n",
       "dtype: float64"
      ]
     },
     "execution_count": 21,
     "metadata": {},
     "output_type": "execute_result"
    }
   ],
   "source": [
    "volve.min()"
   ]
  },
  {
   "cell_type": "code",
   "execution_count": 22,
   "id": "premier-lyric",
   "metadata": {},
   "outputs": [
    {
     "data": {
      "text/plain": [
       "DEPTH     4513.0000\n",
       "AC         136.2539\n",
       "ACS        388.8397\n",
       "BS           8.5000\n",
       "CALI         8.9922\n",
       "DEN          3.0040\n",
       "DENC         0.1975\n",
       "GR         437.8234\n",
       "NEU          0.4857\n",
       "PEF         11.5376\n",
       "RDEP        46.3389\n",
       "RMED     62290.7700\n",
       "dtype: float64"
      ]
     },
     "execution_count": 22,
     "metadata": {},
     "output_type": "execute_result"
    }
   ],
   "source": [
    "volve.max()"
   ]
  },
  {
   "cell_type": "code",
   "execution_count": 23,
   "id": "possible-evans",
   "metadata": {},
   "outputs": [
    {
     "data": {
      "text/plain": [
       "DEPTH    3528.682858\n",
       "AC         74.188669\n",
       "ACS       138.153199\n",
       "BS          8.500000\n",
       "CALI        8.684332\n",
       "DEN         2.502100\n",
       "DENC        0.059519\n",
       "GR         27.591771\n",
       "NEU         0.144904\n",
       "PEF         7.732236\n",
       "RDEP        3.715428\n",
       "RMED        9.416514\n",
       "dtype: float64"
      ]
     },
     "execution_count": 23,
     "metadata": {},
     "output_type": "execute_result"
    }
   ],
   "source": [
    "volve.mean()"
   ]
  },
  {
   "cell_type": "code",
   "execution_count": 24,
   "id": "improved-liquid",
   "metadata": {},
   "outputs": [
    {
     "data": {
      "text/plain": [
       "DEPTH    554.735835\n",
       "AC        13.376483\n",
       "ACS       37.744521\n",
       "BS         0.000000\n",
       "CALI       0.056002\n",
       "DEN        0.126291\n",
       "DENC       0.008473\n",
       "GR        35.231151\n",
       "NEU        0.088624\n",
       "PEF        1.086567\n",
       "RDEP       3.078810\n",
       "RMED     511.889359\n",
       "dtype: float64"
      ]
     },
     "execution_count": 24,
     "metadata": {},
     "output_type": "execute_result"
    }
   ],
   "source": [
    "volve.std()"
   ]
  },
  {
   "cell_type": "markdown",
   "id": "productive-airline",
   "metadata": {},
   "source": [
    "## test data (scaled)"
   ]
  },
  {
   "cell_type": "code",
   "execution_count": 25,
   "id": "automatic-artist",
   "metadata": {},
   "outputs": [],
   "source": [
    "import master.vae_processing as v\n",
    "import joblib\n",
    "scale = joblib.load('scaler_remove.pkl')\n",
    "volve_scaled,_ = v.scale_and_shape(source_test, ['DEPTH'], 'remove', nLines=1)"
   ]
  },
  {
   "cell_type": "code",
   "execution_count": 26,
   "id": "pregnant-recording",
   "metadata": {},
   "outputs": [
    {
     "data": {
      "text/plain": [
       "AC         0.023445\n",
       "ACS       -0.002609\n",
       "DEN        0.374367\n",
       "DENC       0.189317\n",
       "GR         0.000925\n",
       "NEU        0.002141\n",
       "PEF        0.325112\n",
       "RDEP       0.032838\n",
       "RMED       0.004527\n",
       "CALI-BS    0.261959\n",
       "dtype: float64"
      ]
     },
     "execution_count": 26,
     "metadata": {},
     "output_type": "execute_result"
    }
   ],
   "source": [
    "volve_scaled.min()"
   ]
  },
  {
   "cell_type": "code",
   "execution_count": 27,
   "id": "awful-allen",
   "metadata": {},
   "outputs": [
    {
     "data": {
      "text/plain": [
       "AC         0.383100\n",
       "ACS        0.432484\n",
       "DEN        0.739867\n",
       "DENC       0.213504\n",
       "GR         0.459064\n",
       "NEU        0.065508\n",
       "PEF        0.359220\n",
       "RDEP       0.456258\n",
       "RMED       0.966714\n",
       "CALI-BS    0.281806\n",
       "dtype: float64"
      ]
     },
     "execution_count": 27,
     "metadata": {},
     "output_type": "execute_result"
    }
   ],
   "source": [
    "volve_scaled.max()"
   ]
  },
  {
   "cell_type": "code",
   "execution_count": 28,
   "id": "broadband-hungary",
   "metadata": {},
   "outputs": [
    {
     "data": {
      "text/plain": [
       "AC         0.127741\n",
       "ACS        0.085369\n",
       "DEN        0.539067\n",
       "DENC       0.196903\n",
       "GR         0.028956\n",
       "NEU        0.021329\n",
       "PEF        0.339831\n",
       "RDEP       0.252586\n",
       "RMED       0.263619\n",
       "CALI-BS    0.269385\n",
       "dtype: float64"
      ]
     },
     "execution_count": 28,
     "metadata": {},
     "output_type": "execute_result"
    }
   ],
   "source": [
    "volve_scaled.mean()"
   ]
  },
  {
   "cell_type": "code",
   "execution_count": 29,
   "id": "alleged-concord",
   "metadata": {},
   "outputs": [
    {
     "data": {
      "text/plain": [
       "AC         0.055235\n",
       "ACS        0.052614\n",
       "DEN        0.050578\n",
       "DENC       0.001017\n",
       "GR         0.036878\n",
       "NEU        0.011524\n",
       "PEF        0.005544\n",
       "RDEP       0.064090\n",
       "RMED       0.069128\n",
       "CALI-BS    0.002261\n",
       "dtype: float64"
      ]
     },
     "execution_count": 29,
     "metadata": {},
     "output_type": "execute_result"
    }
   ],
   "source": [
    "volve_scaled.std()"
   ]
  },
  {
   "cell_type": "markdown",
   "id": "collective-sentence",
   "metadata": {},
   "source": [
    "## CALI-BS"
   ]
  },
  {
   "cell_type": "code",
   "execution_count": 30,
   "id": "assigned-infection",
   "metadata": {},
   "outputs": [],
   "source": [
    "# Possible way to visualize why we use CALI-BS\n",
    "A = abs(np.random.normal(0,1,50))+6\n",
    "B = abs(np.random.normal(0,1,50))+3.5\n",
    "C = list(A) + list(B)\n",
    "D = [6]*50 + [3.5]*50"
   ]
  },
  {
   "cell_type": "code",
   "execution_count": 31,
   "id": "allied-beauty",
   "metadata": {},
   "outputs": [
    {
     "data": {
      "image/png": "[encoded data removed]",
      "text/plain": [
       "<Figure size 576x288 with 1 Axes>"
      ]
     },
     "metadata": {
      "needs_background": "light"
     },
     "output_type": "display_data"
    }
   ],
   "source": [
    "fig = plt.figure(figsize=(8,4))\n",
    "plt.plot(C)\n",
    "plt.plot(D)\n",
    "plt.plot(list(np.array(C) - np.array(D)))\n",
    "plt.legend(['CALI', 'BS', 'CALI-BS'])\n",
    "plt.ylabel('Diameter (in)')\n",
    "plt.xlabel('Depth (cm)')\n",
    "plt.savefig('CALI_BS' + '.pdf', bbox_inches='tight')\n",
    "plt.show()"
   ]
  }
 ],
 "metadata": {
  "kernelspec": {
   "display_name": "Python 3",
   "language": "python",
   "name": "python3"
  },
  "language_info": {
   "codemirror_mode": {
    "name": "ipython",
    "version": 3
   },
   "file_extension": ".py",
   "mimetype": "text/x-python",
   "name": "python",
   "nbconvert_exporter": "python",
   "pygments_lexer": "ipython3",
   "version": "3.8.5"
  }
 },
 "nbformat": 4,
 "nbformat_minor": 5
}
